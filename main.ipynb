{
 "cells": [
  {
   "cell_type": "code",
   "execution_count": 1,
   "outputs": [
    {
     "name": "stdout",
     "output_type": "stream",
     "text": [
      "Index(['Unnamed: 0', 'year', 'le_50_p_msa_median_originated_loans_amount',\n",
      "       'le_50_p_msa_median_originated_loans_sum',\n",
      "       '50_79_p_msa_median_originated_loans_amount',\n",
      "       '50_79_p_msa_median_originated_loans_sum',\n",
      "       '80_99_p_msa_median_originated_loans_amount',\n",
      "       '80_99_p_msa_median_originated_loans_sum',\n",
      "       '100_119_p_msa_median_originated_loans_amount',\n",
      "       '100_119_p_msa_median_originated_loans_sum',\n",
      "       'ge_120_p_msa_median_originated_loans_amount',\n",
      "       'ge_120_p_msa_median_originated_loans_sum', 'nasdaq_first_quarter_open',\n",
      "       'nasdaq_first_quarter_close', 'nasdaq_second_quarter_open',\n",
      "       'nasdaq_second_quarter_close', 'nasdaq_third_quarter_open',\n",
      "       'nasdaq_third_quarter_close', 'nasdaq_fourth_quarter_open',\n",
      "       'nasdaq_fourth_quarter_close', 'dow_jones_first_quarter_open',\n",
      "       'dow_jones_first_quarter_close', 'dow_jones_second_quarter_open',\n",
      "       'dow_jones_second_quarter_close', 'dow_jones_third_quarter_open',\n",
      "       'dow_jones_third_quarter_close', 'dow_jones_fourth_quarter_open',\n",
      "       'dow_jones_fourth_quarter_close', 's&p500_first_quarter_open',\n",
      "       's&p500_first_quarter_close', 's&p500_second_quarter_open',\n",
      "       's&p500_second_quarter_close', 's&p500_third_quarter_open',\n",
      "       's&p500_third_quarter_close', 's&p500_fourth_quarter_open',\n",
      "       's&p500_fourth_quarter_close', 'usa_gdp_growth', 'mexico_gdp_growth',\n",
      "       'latin_america_gdp_growth', 'usa_unemployment_rate_growth',\n",
      "       'usa_q1_gdp_growth', 'usa_q2_gdp_growth', 'usa_q3_gdp_growth',\n",
      "       'usa_q4_gdp_growth', 'nasdaq_open', 'nasdaq_close', 'dow_jones_open',\n",
      "       'dow_jones_close', 's&p500_open', 's&p500_close', 'usa_inflation_rate',\n",
      "       'mexico_inflation_rate', 'brazil_inflation_rate',\n",
      "       'mexico_unemployment_rate', 'brazil_unemployment_rate',\n",
      "       'usa_consumption_q1', 'usa_consumption_q2', 'usa_consumption_q3',\n",
      "       'usa_consumption_q4', 'usa_business_activity_q1',\n",
      "       'usa_business_activity_q2', 'usa_business_activity_q3',\n",
      "       'usa_business_activity_q4', 'usa_unemployment_q1',\n",
      "       'usa_unemployment_q2', 'usa_unemployment_q3', 'usa_unemployment_q4',\n",
      "       'usa_consumption', 'usa_inflation_q1', 'usa_inflation_q2',\n",
      "       'usa_inflation_q3', 'usa_inflation_q4'],\n",
      "      dtype='object')\n"
     ]
    },
    {
     "data": {
      "text/plain": "Index(['Unnamed: 0', 'year', 'le_50_p_msa_median_originated_loans_amount',\n       'le_50_p_msa_median_originated_loans_sum',\n       '50_79_p_msa_median_originated_loans_amount',\n       '50_79_p_msa_median_originated_loans_sum',\n       '80_99_p_msa_median_originated_loans_amount',\n       '80_99_p_msa_median_originated_loans_sum',\n       '100_119_p_msa_median_originated_loans_amount',\n       '100_119_p_msa_median_originated_loans_sum',\n       'ge_120_p_msa_median_originated_loans_amount',\n       'ge_120_p_msa_median_originated_loans_sum', 'nasdaq_first_quarter_open',\n       'nasdaq_first_quarter_close', 'nasdaq_second_quarter_open',\n       'nasdaq_second_quarter_close', 'nasdaq_third_quarter_open',\n       'nasdaq_third_quarter_close', 'nasdaq_fourth_quarter_open',\n       'nasdaq_fourth_quarter_close', 'dow_jones_first_quarter_open',\n       'dow_jones_first_quarter_close', 'dow_jones_second_quarter_open',\n       'dow_jones_second_quarter_close', 'dow_jones_third_quarter_open',\n       'dow_jones_third_quarter_close', 'dow_jones_fourth_quarter_open',\n       'dow_jones_fourth_quarter_close', 's&p500_first_quarter_open',\n       's&p500_first_quarter_close', 's&p500_second_quarter_open',\n       's&p500_second_quarter_close', 's&p500_third_quarter_open',\n       's&p500_third_quarter_close', 's&p500_fourth_quarter_open',\n       's&p500_fourth_quarter_close', 'usa_gdp_growth', 'mexico_gdp_growth',\n       'latin_america_gdp_growth', 'usa_unemployment_rate_growth',\n       'usa_q1_gdp_growth', 'usa_q2_gdp_growth', 'usa_q3_gdp_growth',\n       'usa_q4_gdp_growth', 'nasdaq_open', 'nasdaq_close', 'dow_jones_open',\n       'dow_jones_close', 's&p500_open', 's&p500_close', 'usa_inflation_rate',\n       'mexico_inflation_rate', 'brazil_inflation_rate',\n       'mexico_unemployment_rate', 'brazil_unemployment_rate',\n       'usa_consumption_q1', 'usa_consumption_q2', 'usa_consumption_q3',\n       'usa_consumption_q4', 'usa_business_activity_q1',\n       'usa_business_activity_q2', 'usa_business_activity_q3',\n       'usa_business_activity_q4', 'usa_unemployment_q1',\n       'usa_unemployment_q2', 'usa_unemployment_q3', 'usa_unemployment_q4',\n       'usa_consumption', 'usa_inflation_q1', 'usa_inflation_q2',\n       'usa_inflation_q3', 'usa_inflation_q4'],\n      dtype='object')"
     },
     "execution_count": 1,
     "metadata": {},
     "output_type": "execute_result"
    }
   ],
   "source": [
    "import itertools\n",
    "import os\n",
    "import typing\n",
    "\n",
    "import numpy as np\n",
    "import pandas as pd\n",
    "from sklearn.linear_model import LinearRegression\n",
    "from sklearn.ensemble import RandomForestRegressor\n",
    "from sklearn.metrics import mean_squared_error, r2_score\n",
    "from sklearn.model_selection import train_test_split\n",
    "from sklearn.preprocessing import StandardScaler\n",
    "\n",
    "scaler = StandardScaler()\n",
    "\n",
    "df = pd.read_csv('full_data.csv')\n",
    "\n",
    "df_normalized = pd.read_csv('full_data.csv')\n",
    "for col in df_normalized.columns:\n",
    "    df_normalized[col] = scaler.fit_transform(df_normalized[[col]])\n",
    "\n",
    "print(df_normalized.columns)\n",
    "\n",
    "df.columns"
   ],
   "metadata": {
    "collapsed": false,
    "pycharm": {
     "name": "#%%\n"
    }
   }
  },
  {
   "cell_type": "code",
   "execution_count": 2,
   "outputs": [],
   "source": [
    "quartered_data_columns = [\n",
    "    'nasdaq_first_quarter_open', 'nasdaq_first_quarter_close', 'nasdaq_second_quarter_open', 'nasdaq_second_quarter_close', 'nasdaq_third_quarter_open',\n",
    "    'nasdaq_third_quarter_close', 'nasdaq_fourth_quarter_open', 'nasdaq_fourth_quarter_close', 'dow_jones_first_quarter_open',\n",
    "    'dow_jones_first_quarter_close', 'dow_jones_second_quarter_open', 'dow_jones_second_quarter_close', 'dow_jones_third_quarter_open',\n",
    "    'dow_jones_third_quarter_close', 'dow_jones_fourth_quarter_open', 'dow_jones_fourth_quarter_close', 's&p500_first_quarter_open',\n",
    "    's&p500_first_quarter_close', 's&p500_second_quarter_open', 's&p500_second_quarter_close', 's&p500_third_quarter_open',\n",
    "    's&p500_third_quarter_close', 's&p500_fourth_quarter_open', 's&p500_fourth_quarter_close', 'usa_q1_gdp_growth', 'usa_q2_gdp_growth',\n",
    "    'usa_q3_gdp_growth', 'usa_q4_gdp_growth', 'usa_consumption_q1', 'usa_consumption_q2', 'usa_consumption_q3', 'usa_consumption_q4',\n",
    "    'usa_business_activity_q1', 'usa_business_activity_q2', 'usa_business_activity_q3', 'usa_business_activity_q4',\n",
    "    'usa_unemployment_q1', 'usa_unemployment_q2', 'usa_unemployment_q3', 'usa_unemployment_q4',\n",
    "    'usa_inflation_q1', 'usa_inflation_q2', 'usa_inflation_q3', 'usa_inflation_q4',\n",
    "]\n",
    "\n",
    "q1_financial_columns = [\n",
    "    'nasdaq_first_quarter_open', 'nasdaq_first_quarter_close', 'dow_jones_first_quarter_open', 'dow_jones_first_quarter_close',\n",
    "    's&p500_first_quarter_open', 's&p500_first_quarter_close',\n",
    "]\n",
    "\n",
    "q2_financial_columns = [\n",
    "    'nasdaq_second_quarter_open', 'nasdaq_second_quarter_close', 'dow_jones_second_quarter_open', 'dow_jones_second_quarter_close',\n",
    "    's&p500_second_quarter_open', 's&p500_second_quarter_close',\n",
    "]\n",
    "\n",
    "q3_financial_columns = [\n",
    "    'nasdaq_third_quarter_open', 'nasdaq_third_quarter_close', 'dow_jones_third_quarter_open', 'dow_jones_third_quarter_close',\n",
    "    's&p500_third_quarter_open', 's&p500_third_quarter_close',\n",
    "]\n",
    "\n",
    "q4_financial_columns = [\n",
    "    'nasdaq_fourth_quarter_open', 'nasdaq_fourth_quarter_close', 'dow_jones_fourth_quarter_open', 'dow_jones_fourth_quarter_close',\n",
    "    's&p500_fourth_quarter_open', 's&p500_fourth_quarter_close',\n",
    "]\n",
    "\n",
    "quartered_financial_columns = q1_financial_columns + q2_financial_columns + q3_financial_columns + q4_financial_columns\n",
    "\n",
    "quartered_gdp_columns = ['usa_q1_gdp_growth', 'usa_q2_gdp_growth', 'usa_q3_gdp_growth', 'usa_q4_gdp_growth']\n",
    "\n",
    "quartered_consumption_columns = ['usa_consumption_q1', 'usa_consumption_q2', 'usa_consumption_q3', 'usa_consumption_q4']\n",
    "\n",
    "quartered_business_activity_columns = ['usa_business_activity_q1', 'usa_business_activity_q2', 'usa_business_activity_q3', 'usa_business_activity_q4']\n",
    "\n",
    "quartered_unemployment_columns = ['usa_unemployment_q1', 'usa_unemployment_q2', 'usa_unemployment_q3', 'usa_unemployment_q4']\n",
    "\n",
    "quartered_inflation_columns = ['usa_inflation_q1', 'usa_inflation_q2', 'usa_inflation_q3', 'usa_inflation_q4']\n",
    "\n",
    "qdf = df[quartered_data_columns]\n",
    "normalized_qdf = df_normalized[quartered_data_columns]"
   ],
   "metadata": {
    "collapsed": false,
    "pycharm": {
     "name": "#%%\n"
    }
   }
  },
  {
   "cell_type": "code",
   "execution_count": 3,
   "outputs": [
    {
     "data": {
      "text/plain": "['80_99_p_msa_median_originated_loans_sum',\n 'usa_unemployment_rate_growth',\n 's&p500_open',\n 'usa_gdp_growth',\n 's&p500_close',\n 'Unnamed: 0',\n 'nasdaq_open',\n 'mexico_inflation_rate',\n 'brazil_unemployment_rate',\n 'dow_jones_close',\n 'nasdaq_close',\n 'mexico_gdp_growth',\n '80_99_p_msa_median_originated_loans_amount',\n 'brazil_inflation_rate',\n 'le_50_p_msa_median_originated_loans_sum',\n 'ge_120_p_msa_median_originated_loans_amount',\n '100_119_p_msa_median_originated_loans_sum',\n 'usa_consumption',\n 'mexico_unemployment_rate',\n '50_79_p_msa_median_originated_loans_amount',\n 'ge_120_p_msa_median_originated_loans_sum',\n '50_79_p_msa_median_originated_loans_sum',\n '100_119_p_msa_median_originated_loans_amount',\n 'dow_jones_open',\n 'le_50_p_msa_median_originated_loans_amount',\n 'latin_america_gdp_growth',\n 'usa_inflation_rate']"
     },
     "execution_count": 3,
     "metadata": {},
     "output_type": "execute_result"
    }
   ],
   "source": [
    "years_data_columns = list(set(df.columns) - set(quartered_data_columns))\n",
    "years_data_columns.remove('year')\n",
    "\n",
    "years_financial_columns = ['s&p500_close', 'dow_jones_close', 'dow_jones_open', 'nasdaq_open', 's&p500_open', 'nasdaq_close']\n",
    "\n",
    "years_loans_columns = ['ge_120_p_msa_median_originated_loans_sum', 'ge_120_p_msa_median_originated_loans_amount', '80_99_p_msa_median_originated_loans_amount', '100_119_p_msa_median_originated_loans_sum', '100_119_p_msa_median_originated_loans_amount', 'le_50_p_msa_median_originated_loans_amount', '50_79_p_msa_median_originated_loans_amount', '80_99_p_msa_median_originated_loans_sum', 'le_50_p_msa_median_originated_loans_sum', '50_79_p_msa_median_originated_loans_sum']\n",
    "\n",
    "years_gdp_columns = ['latin_america_gdp_growth', 'usa_gdp_growth', 'mexico_gdp_growth']\n",
    "\n",
    "years_inflation_columns = ['mexico_inflation_rate', 'brazil_inflation_rate', 'usa_inflation_rate']\n",
    "\n",
    "years_unemployment_columns = ['usa_unemployment_rate_growth', 'brazil_unemployment_rate', 'mexico_unemployment_rate']\n",
    "\n",
    "years_consumption_columns = ['usa_consumption']\n",
    "\n",
    "\n",
    "years_data_columns"
   ],
   "metadata": {
    "collapsed": false,
    "pycharm": {
     "name": "#%%\n"
    }
   }
  },
  {
   "cell_type": "code",
   "execution_count": 4,
   "outputs": [],
   "source": [
    "forest_dependent_column_ = []\n",
    "forest_independent_columns_ = []\n",
    "forest_var_ = []\n",
    "forest_mse_ = []\n",
    "forest_mse_lower_than_var_by_ = []\n",
    "forest_r2_ = []\n",
    "\n",
    "regression_dependent_column_ = []\n",
    "regression_independent_columns_ = []\n",
    "regression_var_ = []\n",
    "regression_mse_ = []\n",
    "regression_mse_lower_than_var_by_ = []\n",
    "regression_r2_ = []\n",
    "regression_coefficients_ = []\n",
    "\n",
    "all_temp_vars = (\n",
    "    forest_dependent_column_, forest_independent_columns_, forest_var_, forest_mse_, forest_mse_lower_than_var_by_, forest_r2_,\n",
    "    regression_dependent_column_, regression_independent_columns_, regression_var_, regression_mse_, regression_mse_lower_than_var_by_, regression_r2_, regression_coefficients_,\n",
    ")\n",
    "\n",
    "\n",
    "def get_results(dependent_column: str, independent_columns: list[str], dataframe: pd.DataFrame = df):\n",
    "    X = dataframe[independent_columns]\n",
    "    y = dataframe[dependent_column]\n",
    "    X_train, X_test, y_train, y_test = train_test_split(X, y, test_size=0.2, train_size=0.8, random_state=42)\n",
    "    # rf = RandomForestRegressor(random_state=42)\n",
    "    rg = LinearRegression()\n",
    "    # rf.fit(X_train, y_train)\n",
    "    rg.fit(X_train, y_train)\n",
    "    # forest_y_pred = rf.predict(X_test)\n",
    "    regression_y_pred = rg.predict(X_test)\n",
    "    # forest_dependent_column_.append(dependent_column)\n",
    "    regression_dependent_column_.append(dependent_column)\n",
    "    # forest_independent_columns_.append(independent_columns)\n",
    "    regression_independent_columns_.append(independent_columns)\n",
    "    var = np.var(y)\n",
    "    # forest_var_.append(var)\n",
    "    regression_var_.append(var)\n",
    "    # rf_mse = mean_squared_error(y_test, forest_y_pred)\n",
    "    # forest_mse_.append(rf_mse)\n",
    "    rg_mse = mean_squared_error(y_test, regression_y_pred)\n",
    "    regression_mse_.append(rg_mse)\n",
    "    # forest_mse_lower_than_var_by_.append(var - rf_mse)\n",
    "    regression_mse_lower_than_var_by_.append(var - rg_mse)\n",
    "    # forest_r2_.append(r2_score(y_test, forest_y_pred))\n",
    "    regression_r2_.append(r2_score(y_test, regression_y_pred))\n",
    "    regression_coefficients_.append(list(zip(independent_columns, rg.coef_)))\n",
    "\n",
    "\n",
    "\n",
    "def write_results(directory: str, filename: str):\n",
    "    # forest_results_df = pd.DataFrame(\n",
    "    #     {\n",
    "    #         'dependant_column': forest_dependent_column_,\n",
    "    #         'independent_columns': forest_independent_columns_,\n",
    "    #         'variance': forest_var_,\n",
    "    #         'mean_squared_error': forest_mse_,\n",
    "    #         'mse_lower_than_variance_by': forest_mse_lower_than_var_by_,\n",
    "    #         'r_squared': forest_r2_,\n",
    "    #     }\n",
    "    # )\n",
    "    regression_results_df = pd.DataFrame(\n",
    "        {\n",
    "            'dependant_column': regression_dependent_column_,\n",
    "            'independent_columns': regression_independent_columns_,\n",
    "            'variance': regression_var_,\n",
    "            'mean_squared_error': regression_mse_,\n",
    "            'mse_lower_than_variance_by': regression_mse_lower_than_var_by_,\n",
    "            'r_squared': regression_r2_,\n",
    "            'coefficients': regression_coefficients_,\n",
    "        }\n",
    "    )\n",
    "    forest_dir = directory\n",
    "    regression_dir = os.path.join(forest_dir, 'regression')\n",
    "    os.makedirs(regression_dir, exist_ok=True)\n",
    "    forest_path = os.path.join(forest_dir, f'{filename}.csv')\n",
    "    regression_path = os.path.join(regression_dir, f'{filename}.csv')\n",
    "    # forest_results_df.to_csv(forest_path)\n",
    "    regression_results_df.to_csv(regression_path)\n",
    "\n",
    "\n",
    "def process_full_alg(dependant_columns: list[str], independent_columns: list[str], directory: str, filename: str, min_comb_len: int = 1, max_comb_len: typing.Optional[int] = None, dataframe: pd.DataFrame = df):\n",
    "    for dependant_column in dependant_columns:\n",
    "        for i in range(min_comb_len, len(independent_columns) + 1 if not max_comb_len else max_comb_len + 1):\n",
    "            independent_columns_combinations = itertools.combinations(independent_columns, i)\n",
    "            for independent_columns_combination in independent_columns_combinations:\n",
    "                independent_columns_combination = list(independent_columns_combination)\n",
    "                get_results(dependant_column, independent_columns_combination, dataframe=dataframe)\n",
    "\n",
    "        write_results(directory, filename)\n",
    "\n",
    "        for var in all_temp_vars:\n",
    "            var.clear()\n",
    "\n",
    "\n",
    "def get_only_good_results(path: str, r: float = 0.85, save_to: typing.Optional[str] = None):\n",
    "    dir = os.path.dirname(path)\n",
    "    filename = path.replace(dir, '').replace('/', '').replace('.csv', '')\n",
    "    df = pd.read_csv(path)\n",
    "    filtered_df = df[(df['r_squared'] > r) & (df['mse_lower_than_variance_by'] > 0)]\n",
    "    good_results_path = os.path.join(dir, f'good_results_{filename}.csv' if not save_to else save_to)\n",
    "    filtered_df.to_csv(good_results_path)"
   ],
   "metadata": {
    "collapsed": false,
    "pycharm": {
     "name": "#%%\n"
    }
   }
  },
  {
   "cell_type": "code",
   "execution_count": 5,
   "outputs": [],
   "source": [
    "# process_full_alg(\n",
    "#     dependant_columns=years_loans_columns,\n",
    "#     independent_columns=years_financial_columns,\n",
    "#     directory='results/years',\n",
    "#     filename='loans_by_finances',\n",
    "# )\n",
    "#\n",
    "#\n",
    "# process_full_alg(\n",
    "#     dependant_columns=years_financial_columns,\n",
    "#     independent_columns=years_loans_columns,\n",
    "#     directory='results/years',\n",
    "#     filename='finances_by_loans',\n",
    "# )\n",
    "\n",
    "\n",
    "process_full_alg(\n",
    "    dependant_columns=years_gdp_columns,\n",
    "    independent_columns=years_financial_columns,\n",
    "    directory='results/years/normalized',\n",
    "    filename='gdp_by_finances',\n",
    "    dataframe=df_normalized,\n",
    ")\n",
    "\n",
    "\n",
    "# process_full_alg(\n",
    "#     dependant_columns=years_gdp_columns,\n",
    "#     independent_columns=years_inflation_columns,\n",
    "#     directory='results/years',\n",
    "#     filename='gdp_by_inflation',\n",
    "# )\n",
    "#\n",
    "#\n",
    "# process_full_alg(\n",
    "#     dependant_columns=years_gdp_columns,\n",
    "#     independent_columns=years_unemployment_columns,\n",
    "#     directory='results/years',\n",
    "#     filename='gdp_by_unemployment',\n",
    "# )\n",
    "#\n",
    "#\n",
    "# process_full_alg(\n",
    "#     dependant_columns=years_inflation_columns,\n",
    "#     independent_columns=years_unemployment_columns,\n",
    "#     directory='results/years',\n",
    "#     filename='inflation_by_unemployment',\n",
    "# )"
   ],
   "metadata": {
    "collapsed": false,
    "pycharm": {
     "name": "#%%\n"
    }
   }
  },
  {
   "cell_type": "code",
   "execution_count": 27,
   "outputs": [],
   "source": [
    "process_full_alg(\n",
    "    dependant_columns=years_gdp_columns,\n",
    "    independent_columns=years_loans_columns,\n",
    "    directory='results/years',\n",
    "    filename='gdp_by_loans',\n",
    ")\n",
    "\n",
    "process_full_alg(\n",
    "    dependant_columns=years_inflation_columns,\n",
    "    independent_columns=years_loans_columns,\n",
    "    directory='results/years',\n",
    "    filename='inflation_by_loans',\n",
    ")\n",
    "\n",
    "process_full_alg(\n",
    "    dependant_columns=years_unemployment_columns,\n",
    "    independent_columns=years_loans_columns,\n",
    "    directory='results/years',\n",
    "    filename='unemployment_by_loans',\n",
    ")"
   ],
   "metadata": {
    "collapsed": false,
    "pycharm": {
     "name": "#%%\n"
    }
   }
  },
  {
   "cell_type": "code",
   "execution_count": 4,
   "outputs": [],
   "source": [
    "# get_only_good_results('/Users/bohdankonovalenko/Desktop/Study/Курсова/2023/random_forest_results_for_years.csv')\n",
    "\n",
    "for filename in os.listdir('results/years'):\n",
    "    if not filename.startswith('good_results'):\n",
    "        get_only_good_results(os.path.join('/Users/bohdankonovalenko/Desktop/Study/Курсова/2023/results/years', filename))"
   ],
   "metadata": {
    "collapsed": false,
    "pycharm": {
     "name": "#%%\n"
    }
   }
  },
  {
   "cell_type": "code",
   "execution_count": 5,
   "outputs": [],
   "source": [
    "get_only_good_results('/Users/bohdankonovalenko/Desktop/Study/Курсова/2023/random_forest_results_for_years.csv')"
   ],
   "metadata": {
    "collapsed": false,
    "pycharm": {
     "name": "#%%\n"
    }
   }
  },
  {
   "cell_type": "code",
   "execution_count": 7,
   "outputs": [],
   "source": [
    "process_full_alg(\n",
    "    dependant_columns=years_gdp_columns,\n",
    "    independent_columns=years_loans_columns + years_financial_columns + years_inflation_columns,\n",
    "    directory='results/years',\n",
    "    filename='gdp_by_loans_finances_inflation',\n",
    "    min_comb_len=15,\n",
    ")"
   ],
   "metadata": {
    "collapsed": false,
    "pycharm": {
     "name": "#%%\n"
    }
   }
  },
  {
   "cell_type": "code",
   "execution_count": 12,
   "outputs": [],
   "source": [
    "get_only_good_results('/Users/bohdankonovalenko/Desktop/Study/Курсова/2023/results/years/gdp_by_loans_finances_inflation.csv', r=0.1)"
   ],
   "metadata": {
    "collapsed": false,
    "pycharm": {
     "name": "#%%\n"
    }
   }
  },
  {
   "cell_type": "code",
   "execution_count": 17,
   "outputs": [],
   "source": [
    "process_full_alg(\n",
    "    dependant_columns=years_gdp_columns,\n",
    "    independent_columns=years_loans_columns + years_financial_columns + years_inflation_columns,\n",
    "    directory='results/years',\n",
    "    filename='gdp_by_loans_finances_inflation',\n",
    "    max_comb_len=5,\n",
    ")"
   ],
   "metadata": {
    "collapsed": false,
    "pycharm": {
     "name": "#%%\n"
    }
   }
  },
  {
   "cell_type": "code",
   "execution_count": 18,
   "outputs": [],
   "source": [
    "get_only_good_results('/Users/bohdankonovalenko/Desktop/Study/Курсова/2023/results/years/gdp_by_loans_finances_inflation.csv', r=0.1)"
   ],
   "metadata": {
    "collapsed": false,
    "pycharm": {
     "name": "#%%\n"
    }
   }
  },
  {
   "cell_type": "code",
   "execution_count": 7,
   "outputs": [],
   "source": [
    "# LAG\n",
    "\n",
    "for i, temp_df in enumerate([qdf, normalized_qdf]):\n",
    "    for quarter_column in quartered_gdp_columns + quartered_unemployment_columns + quartered_consumption_columns:\n",
    "        process_full_alg(\n",
    "                dependant_columns=[quarter_column],\n",
    "                independent_columns=quartered_financial_columns,\n",
    "                dataframe=temp_df,\n",
    "                directory='results/quarters' if i == 0 else 'results/quarters/normalized',\n",
    "                filename=f'{quarter_column}_by_finances',\n",
    "                min_comb_len=20,\n",
    "            )\n",
    "        if 'q1' in quarter_column:\n",
    "            process_full_alg(\n",
    "                dependant_columns=[quarter_column],\n",
    "                independent_columns=q2_financial_columns + q3_financial_columns + q4_financial_columns,\n",
    "                dataframe=temp_df,\n",
    "                directory='results/quarters' if i == 0 else 'results/quarters/normalized',\n",
    "                filename=f'lag_{quarter_column}_by_finances',\n",
    "                min_comb_len=12,\n",
    "            )\n",
    "            continue\n",
    "        if 'q2' in quarter_column:\n",
    "            process_full_alg(\n",
    "                dependant_columns=[quarter_column],\n",
    "                independent_columns=q3_financial_columns + q4_financial_columns,\n",
    "                dataframe=temp_df,\n",
    "                directory='results/quarters' if i == 0 else 'results/quarters/normalized',\n",
    "                filename=f'lag_{quarter_column}_by_finances',\n",
    "                min_comb_len=11\n",
    "            )\n",
    "            continue\n",
    "        if 'q3' in quarter_column:\n",
    "            process_full_alg(\n",
    "                dependant_columns=[quarter_column],\n",
    "                independent_columns=q4_financial_columns,\n",
    "                dataframe=temp_df,\n",
    "                directory='results/quarters' if i == 0 else 'results/quarters/normalized',\n",
    "                filename=f'lag_{quarter_column}_by_finances',\n",
    "            )\n",
    "            continue"
   ],
   "metadata": {
    "collapsed": false,
    "pycharm": {
     "name": "#%%\n"
    }
   }
  },
  {
   "cell_type": "code",
   "execution_count": 8,
   "outputs": [],
   "source": [
    "process_full_alg(\n",
    "    dependant_columns=years_unemployment_columns,\n",
    "    independent_columns=years_financial_columns,\n",
    "    directory='results/years',\n",
    "    filename='unemployment_by_finances',\n",
    ")\n",
    "\n",
    "process_full_alg(\n",
    "    dependant_columns=years_inflation_columns,\n",
    "    independent_columns=years_financial_columns,\n",
    "    directory='results/years',\n",
    "    filename='inflation_by_finances',\n",
    ")"
   ],
   "metadata": {
    "collapsed": false,
    "pycharm": {
     "name": "#%%\n"
    }
   }
  },
  {
   "cell_type": "code",
   "execution_count": 9,
   "outputs": [],
   "source": [
    "for filename in ('inflation_by_finances.csv', 'unemployment_by_finances.csv'):\n",
    "    if not filename.startswith('good_results'):\n",
    "        get_only_good_results(os.path.join('/Users/bohdankonovalenko/Desktop/Study/Курсова/2023/results/years', filename), r=0)"
   ],
   "metadata": {
    "collapsed": false,
    "pycharm": {
     "name": "#%%\n"
    }
   }
  },
  {
   "cell_type": "code",
   "execution_count": 9,
   "outputs": [
    {
     "ename": "KeyboardInterrupt",
     "evalue": "",
     "output_type": "error",
     "traceback": [
      "\u001B[0;31m---------------------------------------------------------------------------\u001B[0m",
      "\u001B[0;31mKeyboardInterrupt\u001B[0m                         Traceback (most recent call last)",
      "Cell \u001B[0;32mIn[9], line 6\u001B[0m\n\u001B[1;32m      4\u001B[0m \u001B[38;5;28;01mfor\u001B[39;00m i, temp_df \u001B[38;5;129;01min\u001B[39;00m \u001B[38;5;28menumerate\u001B[39m([ba_df, normalized_ba_df]):\n\u001B[1;32m      5\u001B[0m     \u001B[38;5;28;01mfor\u001B[39;00m quarter_column \u001B[38;5;129;01min\u001B[39;00m quartered_business_activity_columns:\n\u001B[0;32m----> 6\u001B[0m         \u001B[43mprocess_full_alg\u001B[49m\u001B[43m(\u001B[49m\n\u001B[1;32m      7\u001B[0m \u001B[43m                \u001B[49m\u001B[43mdependant_columns\u001B[49m\u001B[38;5;241;43m=\u001B[39;49m\u001B[43m[\u001B[49m\u001B[43mquarter_column\u001B[49m\u001B[43m]\u001B[49m\u001B[43m,\u001B[49m\n\u001B[1;32m      8\u001B[0m \u001B[43m                \u001B[49m\u001B[43mindependent_columns\u001B[49m\u001B[38;5;241;43m=\u001B[39;49m\u001B[43mquartered_financial_columns\u001B[49m\u001B[43m,\u001B[49m\n\u001B[1;32m      9\u001B[0m \u001B[43m                \u001B[49m\u001B[43mdataframe\u001B[49m\u001B[38;5;241;43m=\u001B[39;49m\u001B[43mtemp_df\u001B[49m\u001B[43m,\u001B[49m\n\u001B[1;32m     10\u001B[0m \u001B[43m                \u001B[49m\u001B[43mdirectory\u001B[49m\u001B[38;5;241;43m=\u001B[39;49m\u001B[38;5;124;43m'\u001B[39;49m\u001B[38;5;124;43mresults/quarters\u001B[39;49m\u001B[38;5;124;43m'\u001B[39;49m\u001B[43m \u001B[49m\u001B[38;5;28;43;01mif\u001B[39;49;00m\u001B[43m \u001B[49m\u001B[43mi\u001B[49m\u001B[43m \u001B[49m\u001B[38;5;241;43m==\u001B[39;49m\u001B[43m \u001B[49m\u001B[38;5;241;43m0\u001B[39;49m\u001B[43m \u001B[49m\u001B[38;5;28;43;01melse\u001B[39;49;00m\u001B[43m \u001B[49m\u001B[38;5;124;43m'\u001B[39;49m\u001B[38;5;124;43mresults/quarters/normalized\u001B[39;49m\u001B[38;5;124;43m'\u001B[39;49m\u001B[43m,\u001B[49m\n\u001B[1;32m     11\u001B[0m \u001B[43m                \u001B[49m\u001B[43mfilename\u001B[49m\u001B[38;5;241;43m=\u001B[39;49m\u001B[38;5;124;43mf\u001B[39;49m\u001B[38;5;124;43m'\u001B[39;49m\u001B[38;5;132;43;01m{\u001B[39;49;00m\u001B[43mquarter_column\u001B[49m\u001B[38;5;132;43;01m}\u001B[39;49;00m\u001B[38;5;124;43m_by_finances\u001B[39;49m\u001B[38;5;124;43m'\u001B[39;49m\u001B[43m,\u001B[49m\n\u001B[1;32m     12\u001B[0m \u001B[43m                \u001B[49m\u001B[43mmin_comb_len\u001B[49m\u001B[38;5;241;43m=\u001B[39;49m\u001B[38;5;241;43m20\u001B[39;49m\u001B[43m,\u001B[49m\n\u001B[1;32m     13\u001B[0m \u001B[43m            \u001B[49m\u001B[43m)\u001B[49m\n\u001B[1;32m     14\u001B[0m         \u001B[38;5;28;01mif\u001B[39;00m \u001B[38;5;124m'\u001B[39m\u001B[38;5;124mq1\u001B[39m\u001B[38;5;124m'\u001B[39m \u001B[38;5;129;01min\u001B[39;00m quarter_column:\n\u001B[1;32m     15\u001B[0m             process_full_alg(\n\u001B[1;32m     16\u001B[0m                 dependant_columns\u001B[38;5;241m=\u001B[39m[quarter_column],\n\u001B[1;32m     17\u001B[0m                 independent_columns\u001B[38;5;241m=\u001B[39mq2_financial_columns \u001B[38;5;241m+\u001B[39m q3_financial_columns \u001B[38;5;241m+\u001B[39m q4_financial_columns,\n\u001B[0;32m   (...)\u001B[0m\n\u001B[1;32m     21\u001B[0m                 min_comb_len\u001B[38;5;241m=\u001B[39m\u001B[38;5;241m12\u001B[39m,\n\u001B[1;32m     22\u001B[0m             )\n",
      "Cell \u001B[0;32mIn[8], line 88\u001B[0m, in \u001B[0;36mprocess_full_alg\u001B[0;34m(dependant_columns, independent_columns, directory, filename, min_comb_len, max_comb_len, dataframe)\u001B[0m\n\u001B[1;32m     86\u001B[0m     \u001B[38;5;28;01mfor\u001B[39;00m independent_columns_combination \u001B[38;5;129;01min\u001B[39;00m independent_columns_combinations:\n\u001B[1;32m     87\u001B[0m         independent_columns_combination \u001B[38;5;241m=\u001B[39m \u001B[38;5;28mlist\u001B[39m(independent_columns_combination)\n\u001B[0;32m---> 88\u001B[0m         \u001B[43mget_results\u001B[49m\u001B[43m(\u001B[49m\u001B[43mdependant_column\u001B[49m\u001B[43m,\u001B[49m\u001B[43m \u001B[49m\u001B[43mindependent_columns_combination\u001B[49m\u001B[43m,\u001B[49m\u001B[43m \u001B[49m\u001B[43mdataframe\u001B[49m\u001B[38;5;241;43m=\u001B[39;49m\u001B[43mdataframe\u001B[49m\u001B[43m)\u001B[49m\n\u001B[1;32m     90\u001B[0m write_results(directory, filename)\n\u001B[1;32m     92\u001B[0m \u001B[38;5;28;01mfor\u001B[39;00m var \u001B[38;5;129;01min\u001B[39;00m all_temp_vars:\n",
      "Cell \u001B[0;32mIn[8], line 25\u001B[0m, in \u001B[0;36mget_results\u001B[0;34m(dependent_column, independent_columns, dataframe)\u001B[0m\n\u001B[1;32m     23\u001B[0m X \u001B[38;5;241m=\u001B[39m dataframe[independent_columns]\n\u001B[1;32m     24\u001B[0m y \u001B[38;5;241m=\u001B[39m dataframe[dependent_column]\n\u001B[0;32m---> 25\u001B[0m X_train, X_test, y_train, y_test \u001B[38;5;241m=\u001B[39m \u001B[43mtrain_test_split\u001B[49m\u001B[43m(\u001B[49m\u001B[43mX\u001B[49m\u001B[43m,\u001B[49m\u001B[43m \u001B[49m\u001B[43my\u001B[49m\u001B[43m,\u001B[49m\u001B[43m \u001B[49m\u001B[43mtest_size\u001B[49m\u001B[38;5;241;43m=\u001B[39;49m\u001B[38;5;241;43m0.2\u001B[39;49m\u001B[43m,\u001B[49m\u001B[43m \u001B[49m\u001B[43mtrain_size\u001B[49m\u001B[38;5;241;43m=\u001B[39;49m\u001B[38;5;241;43m0.8\u001B[39;49m\u001B[43m,\u001B[49m\u001B[43m \u001B[49m\u001B[43mrandom_state\u001B[49m\u001B[38;5;241;43m=\u001B[39;49m\u001B[38;5;241;43m42\u001B[39;49m\u001B[43m)\u001B[49m\n\u001B[1;32m     26\u001B[0m \u001B[38;5;66;03m# rf = RandomForestRegressor(random_state=42)\u001B[39;00m\n\u001B[1;32m     27\u001B[0m rg \u001B[38;5;241m=\u001B[39m LinearRegression()\n",
      "File \u001B[0;32m~/Desktop/Study/Курсова/venv/lib/python3.10/site-packages/sklearn/model_selection/_split.py:2585\u001B[0m, in \u001B[0;36mtrain_test_split\u001B[0;34m(test_size, train_size, random_state, shuffle, stratify, *arrays)\u001B[0m\n\u001B[1;32m   2581\u001B[0m     cv \u001B[38;5;241m=\u001B[39m CVClass(test_size\u001B[38;5;241m=\u001B[39mn_test, train_size\u001B[38;5;241m=\u001B[39mn_train, random_state\u001B[38;5;241m=\u001B[39mrandom_state)\n\u001B[1;32m   2583\u001B[0m     train, test \u001B[38;5;241m=\u001B[39m \u001B[38;5;28mnext\u001B[39m(cv\u001B[38;5;241m.\u001B[39msplit(X\u001B[38;5;241m=\u001B[39marrays[\u001B[38;5;241m0\u001B[39m], y\u001B[38;5;241m=\u001B[39mstratify))\n\u001B[0;32m-> 2585\u001B[0m \u001B[38;5;28;01mreturn\u001B[39;00m \u001B[38;5;28;43mlist\u001B[39;49m\u001B[43m(\u001B[49m\n\u001B[1;32m   2586\u001B[0m \u001B[43m    \u001B[49m\u001B[43mchain\u001B[49m\u001B[38;5;241;43m.\u001B[39;49m\u001B[43mfrom_iterable\u001B[49m\u001B[43m(\u001B[49m\n\u001B[1;32m   2587\u001B[0m \u001B[43m        \u001B[49m\u001B[43m(\u001B[49m\u001B[43m_safe_indexing\u001B[49m\u001B[43m(\u001B[49m\u001B[43ma\u001B[49m\u001B[43m,\u001B[49m\u001B[43m \u001B[49m\u001B[43mtrain\u001B[49m\u001B[43m)\u001B[49m\u001B[43m,\u001B[49m\u001B[43m \u001B[49m\u001B[43m_safe_indexing\u001B[49m\u001B[43m(\u001B[49m\u001B[43ma\u001B[49m\u001B[43m,\u001B[49m\u001B[43m \u001B[49m\u001B[43mtest\u001B[49m\u001B[43m)\u001B[49m\u001B[43m)\u001B[49m\u001B[43m \u001B[49m\u001B[38;5;28;43;01mfor\u001B[39;49;00m\u001B[43m \u001B[49m\u001B[43ma\u001B[49m\u001B[43m \u001B[49m\u001B[38;5;129;43;01min\u001B[39;49;00m\u001B[43m \u001B[49m\u001B[43marrays\u001B[49m\n\u001B[1;32m   2588\u001B[0m \u001B[43m    \u001B[49m\u001B[43m)\u001B[49m\n\u001B[1;32m   2589\u001B[0m \u001B[43m\u001B[49m\u001B[43m)\u001B[49m\n",
      "File \u001B[0;32m~/Desktop/Study/Курсова/venv/lib/python3.10/site-packages/sklearn/model_selection/_split.py:2587\u001B[0m, in \u001B[0;36m<genexpr>\u001B[0;34m(.0)\u001B[0m\n\u001B[1;32m   2581\u001B[0m     cv \u001B[38;5;241m=\u001B[39m CVClass(test_size\u001B[38;5;241m=\u001B[39mn_test, train_size\u001B[38;5;241m=\u001B[39mn_train, random_state\u001B[38;5;241m=\u001B[39mrandom_state)\n\u001B[1;32m   2583\u001B[0m     train, test \u001B[38;5;241m=\u001B[39m \u001B[38;5;28mnext\u001B[39m(cv\u001B[38;5;241m.\u001B[39msplit(X\u001B[38;5;241m=\u001B[39marrays[\u001B[38;5;241m0\u001B[39m], y\u001B[38;5;241m=\u001B[39mstratify))\n\u001B[1;32m   2585\u001B[0m \u001B[38;5;28;01mreturn\u001B[39;00m \u001B[38;5;28mlist\u001B[39m(\n\u001B[1;32m   2586\u001B[0m     chain\u001B[38;5;241m.\u001B[39mfrom_iterable(\n\u001B[0;32m-> 2587\u001B[0m         (\u001B[43m_safe_indexing\u001B[49m\u001B[43m(\u001B[49m\u001B[43ma\u001B[49m\u001B[43m,\u001B[49m\u001B[43m \u001B[49m\u001B[43mtrain\u001B[49m\u001B[43m)\u001B[49m, _safe_indexing(a, test)) \u001B[38;5;28;01mfor\u001B[39;00m a \u001B[38;5;129;01min\u001B[39;00m arrays\n\u001B[1;32m   2588\u001B[0m     )\n\u001B[1;32m   2589\u001B[0m )\n",
      "File \u001B[0;32m~/Desktop/Study/Курсова/venv/lib/python3.10/site-packages/sklearn/utils/__init__.py:354\u001B[0m, in \u001B[0;36m_safe_indexing\u001B[0;34m(X, indices, axis)\u001B[0m\n\u001B[1;32m    348\u001B[0m     \u001B[38;5;28;01mraise\u001B[39;00m \u001B[38;5;167;01mValueError\u001B[39;00m(\n\u001B[1;32m    349\u001B[0m         \u001B[38;5;124m\"\u001B[39m\u001B[38;5;124mSpecifying the columns using strings is only supported for \u001B[39m\u001B[38;5;124m\"\u001B[39m\n\u001B[1;32m    350\u001B[0m         \u001B[38;5;124m\"\u001B[39m\u001B[38;5;124mpandas DataFrames\u001B[39m\u001B[38;5;124m\"\u001B[39m\n\u001B[1;32m    351\u001B[0m     )\n\u001B[1;32m    353\u001B[0m \u001B[38;5;28;01mif\u001B[39;00m \u001B[38;5;28mhasattr\u001B[39m(X, \u001B[38;5;124m\"\u001B[39m\u001B[38;5;124miloc\u001B[39m\u001B[38;5;124m\"\u001B[39m):\n\u001B[0;32m--> 354\u001B[0m     \u001B[38;5;28;01mreturn\u001B[39;00m \u001B[43m_pandas_indexing\u001B[49m\u001B[43m(\u001B[49m\u001B[43mX\u001B[49m\u001B[43m,\u001B[49m\u001B[43m \u001B[49m\u001B[43mindices\u001B[49m\u001B[43m,\u001B[49m\u001B[43m \u001B[49m\u001B[43mindices_dtype\u001B[49m\u001B[43m,\u001B[49m\u001B[43m \u001B[49m\u001B[43maxis\u001B[49m\u001B[38;5;241;43m=\u001B[39;49m\u001B[43maxis\u001B[49m\u001B[43m)\u001B[49m\n\u001B[1;32m    355\u001B[0m \u001B[38;5;28;01melif\u001B[39;00m \u001B[38;5;28mhasattr\u001B[39m(X, \u001B[38;5;124m\"\u001B[39m\u001B[38;5;124mshape\u001B[39m\u001B[38;5;124m\"\u001B[39m):\n\u001B[1;32m    356\u001B[0m     \u001B[38;5;28;01mreturn\u001B[39;00m _array_indexing(X, indices, indices_dtype, axis\u001B[38;5;241m=\u001B[39maxis)\n",
      "File \u001B[0;32m~/Desktop/Study/Курсова/venv/lib/python3.10/site-packages/sklearn/utils/__init__.py:196\u001B[0m, in \u001B[0;36m_pandas_indexing\u001B[0;34m(X, key, key_dtype, axis)\u001B[0m\n\u001B[1;32m    191\u001B[0m     key \u001B[38;5;241m=\u001B[39m np\u001B[38;5;241m.\u001B[39masarray(key)\n\u001B[1;32m    193\u001B[0m \u001B[38;5;28;01mif\u001B[39;00m key_dtype \u001B[38;5;241m==\u001B[39m \u001B[38;5;124m\"\u001B[39m\u001B[38;5;124mint\u001B[39m\u001B[38;5;124m\"\u001B[39m \u001B[38;5;129;01mand\u001B[39;00m \u001B[38;5;129;01mnot\u001B[39;00m (\u001B[38;5;28misinstance\u001B[39m(key, \u001B[38;5;28mslice\u001B[39m) \u001B[38;5;129;01mor\u001B[39;00m np\u001B[38;5;241m.\u001B[39misscalar(key)):\n\u001B[1;32m    194\u001B[0m     \u001B[38;5;66;03m# using take() instead of iloc[] ensures the return value is a \"proper\"\u001B[39;00m\n\u001B[1;32m    195\u001B[0m     \u001B[38;5;66;03m# copy that will not raise SettingWithCopyWarning\u001B[39;00m\n\u001B[0;32m--> 196\u001B[0m     \u001B[38;5;28;01mreturn\u001B[39;00m \u001B[43mX\u001B[49m\u001B[38;5;241;43m.\u001B[39;49m\u001B[43mtake\u001B[49m\u001B[43m(\u001B[49m\u001B[43mkey\u001B[49m\u001B[43m,\u001B[49m\u001B[43m \u001B[49m\u001B[43maxis\u001B[49m\u001B[38;5;241;43m=\u001B[39;49m\u001B[43maxis\u001B[49m\u001B[43m)\u001B[49m\n\u001B[1;32m    197\u001B[0m \u001B[38;5;28;01melse\u001B[39;00m:\n\u001B[1;32m    198\u001B[0m     \u001B[38;5;66;03m# check whether we should index with loc or iloc\u001B[39;00m\n\u001B[1;32m    199\u001B[0m     indexer \u001B[38;5;241m=\u001B[39m X\u001B[38;5;241m.\u001B[39miloc \u001B[38;5;28;01mif\u001B[39;00m key_dtype \u001B[38;5;241m==\u001B[39m \u001B[38;5;124m\"\u001B[39m\u001B[38;5;124mint\u001B[39m\u001B[38;5;124m\"\u001B[39m \u001B[38;5;28;01melse\u001B[39;00m X\u001B[38;5;241m.\u001B[39mloc\n",
      "File \u001B[0;32m~/Desktop/Study/Курсова/venv/lib/python3.10/site-packages/pandas/core/series.py:930\u001B[0m, in \u001B[0;36mSeries.take\u001B[0;34m(self, indices, axis, is_copy, **kwargs)\u001B[0m\n\u001B[1;32m    927\u001B[0m nv\u001B[38;5;241m.\u001B[39mvalidate_take((), kwargs)\n\u001B[1;32m    929\u001B[0m indices \u001B[38;5;241m=\u001B[39m ensure_platform_int(indices)\n\u001B[0;32m--> 930\u001B[0m new_index \u001B[38;5;241m=\u001B[39m \u001B[38;5;28;43mself\u001B[39;49m\u001B[38;5;241;43m.\u001B[39;49m\u001B[43mindex\u001B[49m\u001B[38;5;241;43m.\u001B[39;49m\u001B[43mtake\u001B[49m\u001B[43m(\u001B[49m\u001B[43mindices\u001B[49m\u001B[43m)\u001B[49m\n\u001B[1;32m    931\u001B[0m new_values \u001B[38;5;241m=\u001B[39m \u001B[38;5;28mself\u001B[39m\u001B[38;5;241m.\u001B[39m_values\u001B[38;5;241m.\u001B[39mtake(indices)\n\u001B[1;32m    933\u001B[0m result \u001B[38;5;241m=\u001B[39m \u001B[38;5;28mself\u001B[39m\u001B[38;5;241m.\u001B[39m_constructor(new_values, index\u001B[38;5;241m=\u001B[39mnew_index, fastpath\u001B[38;5;241m=\u001B[39m\u001B[38;5;28;01mTrue\u001B[39;00m)\n",
      "File \u001B[0;32m~/Desktop/Study/Курсова/venv/lib/python3.10/site-packages/pandas/core/indexes/base.py:1182\u001B[0m, in \u001B[0;36mIndex.take\u001B[0;34m(self, indices, axis, allow_fill, fill_value, **kwargs)\u001B[0m\n\u001B[1;32m   1179\u001B[0m \u001B[38;5;66;03m# Note: we discard fill_value and use self._na_value, only relevant\u001B[39;00m\n\u001B[1;32m   1180\u001B[0m \u001B[38;5;66;03m#  in the case where allow_fill is True and fill_value is not None\u001B[39;00m\n\u001B[1;32m   1181\u001B[0m values \u001B[38;5;241m=\u001B[39m \u001B[38;5;28mself\u001B[39m\u001B[38;5;241m.\u001B[39m_values\n\u001B[0;32m-> 1182\u001B[0m \u001B[38;5;28;01mif\u001B[39;00m \u001B[38;5;28;43misinstance\u001B[39;49m\u001B[43m(\u001B[49m\u001B[43mvalues\u001B[49m\u001B[43m,\u001B[49m\u001B[43m \u001B[49m\u001B[43mnp\u001B[49m\u001B[38;5;241;43m.\u001B[39;49m\u001B[43mndarray\u001B[49m\u001B[43m)\u001B[49m:\n\u001B[1;32m   1183\u001B[0m     taken \u001B[38;5;241m=\u001B[39m algos\u001B[38;5;241m.\u001B[39mtake(\n\u001B[1;32m   1184\u001B[0m         values, indices, allow_fill\u001B[38;5;241m=\u001B[39mallow_fill, fill_value\u001B[38;5;241m=\u001B[39m\u001B[38;5;28mself\u001B[39m\u001B[38;5;241m.\u001B[39m_na_value\n\u001B[1;32m   1185\u001B[0m     )\n\u001B[1;32m   1186\u001B[0m \u001B[38;5;28;01melse\u001B[39;00m:\n\u001B[1;32m   1187\u001B[0m     \u001B[38;5;66;03m# algos.take passes 'axis' keyword which not all EAs accept\u001B[39;00m\n",
      "\u001B[0;31mKeyboardInterrupt\u001B[0m: "
     ]
    }
   ],
   "source": [
    "ba_df = df[quartered_data_columns + ['year']][df['year'].isin(list(range(2005, 2017)))].drop('year', axis=1)\n",
    "normalized_ba_df = df_normalized[quartered_data_columns + ['year']][df_normalized['year'].isin(list(range(2005, 2017)))].drop('year', axis=1)\n",
    "\n",
    "for i, temp_df in enumerate([ba_df, normalized_ba_df]):\n",
    "    for quarter_column in quartered_business_activity_columns:\n",
    "        process_full_alg(\n",
    "                dependant_columns=[quarter_column],\n",
    "                independent_columns=quartered_financial_columns,\n",
    "                dataframe=temp_df,\n",
    "                directory='results/quarters' if i == 0 else 'results/quarters/normalized',\n",
    "                filename=f'{quarter_column}_by_finances',\n",
    "                min_comb_len=20,\n",
    "            )\n",
    "        if 'q1' in quarter_column:\n",
    "            process_full_alg(\n",
    "                dependant_columns=[quarter_column],\n",
    "                independent_columns=q2_financial_columns + q3_financial_columns + q4_financial_columns,\n",
    "                dataframe=temp_df,\n",
    "                directory='results/quarters' if i == 0 else 'results/quarters/normalized',\n",
    "                filename=f'lag_{quarter_column}_by_finances',\n",
    "                min_comb_len=12,\n",
    "            )\n",
    "            continue\n",
    "        if 'q2' in quarter_column:\n",
    "            process_full_alg(\n",
    "                dependant_columns=[quarter_column],\n",
    "                independent_columns=q3_financial_columns + q4_financial_columns,\n",
    "                dataframe=temp_df,\n",
    "                directory='results/quarters' if i == 0 else 'results/quarters/normalized',\n",
    "                filename=f'lag_{quarter_column}_by_finances',\n",
    "                min_comb_len=11\n",
    "            )\n",
    "            continue\n",
    "        if 'q3' in quarter_column:\n",
    "            process_full_alg(\n",
    "                dependant_columns=[quarter_column],\n",
    "                independent_columns=q4_financial_columns,\n",
    "                dataframe=temp_df,\n",
    "                directory='results/quarters' if i == 0 else 'results/quarters/normalized',\n",
    "                filename=f'lag_{quarter_column}_by_finances',\n",
    "            )\n",
    "            continue"
   ],
   "metadata": {
    "collapsed": false,
    "pycharm": {
     "name": "#%%\n"
    }
   }
  },
  {
   "cell_type": "code",
   "execution_count": 24,
   "outputs": [],
   "source": [
    "os.makedirs('/Users/bohdankonovalenko/Desktop/Study/Курсова/2023/results/quarters/good_results', exist_ok=True)\n",
    "for filename in os.listdir('results/quarters'):\n",
    "    path = os.path.join('/Users/bohdankonovalenko/Desktop/Study/Курсова/2023/results/quarters', filename)\n",
    "    good_results_path = os.path.join('/Users/bohdankonovalenko/Desktop/Study/Курсова/2023/results/quarters/good_results', filename)\n",
    "    try:\n",
    "        get_only_good_results(path, 0.5, good_results_path)\n",
    "    except Exception as e:\n",
    "        print(filename, e)"
   ],
   "metadata": {
    "collapsed": false,
    "pycharm": {
     "name": "#%%\n"
    }
   }
  },
  {
   "cell_type": "code",
   "execution_count": null,
   "outputs": [],
   "source": [
    "for i, temp_df in enumerate([qdf, normalized_qdf]):\n",
    "    for quarter_column in quartered_gdp_columns:\n",
    "        process_full_alg(\n",
    "                dependant_columns=[quarter_column],\n",
    "                independent_columns=quartered_financial_columns + quartered_unemployment_columns + quartered_consumption_columns,\n",
    "                dataframe=temp_df,\n",
    "                directory='results/quarters' if i == 0 else 'results/quarters/normalized',\n",
    "                filename=f'{quarter_column}_by_finances_unemployment_consumption',\n",
    "                min_comb_len=29,\n",
    "            )\n",
    "        if 'q1' in quarter_column:\n",
    "            process_full_alg(\n",
    "                dependant_columns=[quarter_column],\n",
    "                independent_columns=q2_financial_columns + q3_financial_columns + q4_financial_columns + [col for col in quartered_unemployment_columns if 'q1' not in col] + [col for col in quartered_consumption_columns if 'q1' not in col],\n",
    "                dataframe=temp_df,\n",
    "                directory='results/quarters' if i == 0 else 'results/quarters/normalized',\n",
    "                filename=f'lag_{quarter_column}_by_finances_unemployment_consumption',\n",
    "                min_comb_len=20,\n",
    "            )\n",
    "            continue\n",
    "        if 'q2' in quarter_column:\n",
    "            process_full_alg(\n",
    "                dependant_columns=[quarter_column],\n",
    "                independent_columns=q3_financial_columns + q4_financial_columns + [col for col in quartered_unemployment_columns if 'q1' not in col and 'q2' not in col] + [col for col in quartered_consumption_columns if 'q1' not in col and 'q2' not in col],\n",
    "                dataframe=temp_df,\n",
    "                directory='results/quarters' if i == 0 else 'results/quarters/normalized',\n",
    "                filename=f'lag_{quarter_column}_by_finances_unemployment_consumption',\n",
    "                min_comb_len=11\n",
    "            )\n",
    "            continue\n",
    "        if 'q3' in quarter_column:\n",
    "            process_full_alg(\n",
    "                dependant_columns=[quarter_column],\n",
    "                independent_columns=q4_financial_columns + [col for col in quartered_unemployment_columns if 'q1' not in col and 'q2' not in col and 'q3' not in col] + [col for col in quartered_consumption_columns if 'q1' not in col and 'q2' not in col and 'q3' not in col],\n",
    "                dataframe=temp_df,\n",
    "                directory='results/quarters' if i == 0 else 'results/quarters/normalized',\n",
    "                filename=f'lag_{quarter_column}_by_finances_unemployment_consumption',\n",
    "            )\n",
    "            continue"
   ],
   "metadata": {
    "collapsed": false,
    "pycharm": {
     "name": "#%%\n"
    }
   }
  },
  {
   "cell_type": "code",
   "execution_count": 6,
   "outputs": [],
   "source": [
    "good_results_df = None\n",
    "dir_relative_path = 'results/quarters'\n",
    "dir_abs_path = os.path.abspath(dir_relative_path)\n",
    "for filename in os.listdir(dir_relative_path):\n",
    "    if not filename.endswith('.csv') or 'only_good_results' in filename:\n",
    "        continue\n",
    "    path = os.path.join(dir_abs_path, filename)\n",
    "    try:\n",
    "        tdf = pd.read_csv(path)\n",
    "        tdf = tdf[tdf['r_squared'] > 0.2][['dependant_column', 'independent_columns', 'variance', 'mean_squared_error', 'r_squared']]\n",
    "    except Exception as e:\n",
    "        print(f'{path} is empty: {e}')\n",
    "        continue\n",
    "    if good_results_df is None:\n",
    "        good_results_df = tdf\n",
    "        continue\n",
    "    good_results_df = pd.concat([good_results_df, tdf])\n",
    "good_results_df.to_csv(os.path.join(dir_abs_path, 'only_good_results.csv'))"
   ],
   "metadata": {
    "collapsed": false,
    "pycharm": {
     "name": "#%%\n"
    }
   }
  },
  {
   "cell_type": "code",
   "execution_count": 5,
   "outputs": [],
   "source": [
    "for i, temp_df in enumerate([qdf, normalized_qdf]):\n",
    "    for quarter_column in quartered_consumption_columns:\n",
    "        process_full_alg(\n",
    "                dependant_columns=[quarter_column],\n",
    "                independent_columns=quartered_gdp_columns,\n",
    "                dataframe=temp_df,\n",
    "                directory='results/quarters' if i == 0 else 'results/quarters/normalized',\n",
    "                filename=f'{quarter_column}_by_gdp',\n",
    "            )\n",
    "        if 'q1' in quarter_column:\n",
    "            process_full_alg(\n",
    "                dependant_columns=[quarter_column],\n",
    "                independent_columns=[col for col in quartered_gdp_columns if 'q1' not in col],\n",
    "                dataframe=temp_df,\n",
    "                directory='results/quarters' if i == 0 else 'results/quarters/normalized',\n",
    "                filename=f'lag_{quarter_column}_by_gdp',\n",
    "            )\n",
    "            continue\n",
    "        if 'q2' in quarter_column:\n",
    "            process_full_alg(\n",
    "                dependant_columns=[quarter_column],\n",
    "                independent_columns=[col for col in quartered_gdp_columns if 'q1' not in col and 'q2' not in col],\n",
    "                dataframe=temp_df,\n",
    "                directory='results/quarters' if i == 0 else 'results/quarters/normalized',\n",
    "                filename=f'lag_{quarter_column}_by_gdp',\n",
    "            )\n",
    "            continue\n",
    "        if 'q3' in quarter_column:\n",
    "            process_full_alg(\n",
    "                dependant_columns=[quarter_column],\n",
    "                independent_columns=[col for col in quartered_gdp_columns if 'q1' not in col and 'q2' not in col and 'q3' not in col],\n",
    "                dataframe=temp_df,\n",
    "                directory='results/quarters' if i == 0 else 'results/quarters/normalized',\n",
    "                filename=f'lag_{quarter_column}_by_gdp',\n",
    "            )\n",
    "            continue"
   ],
   "metadata": {
    "collapsed": false,
    "pycharm": {
     "name": "#%%\n"
    }
   }
  },
  {
   "cell_type": "code",
   "execution_count": 24,
   "outputs": [],
   "source": [
    "process_full_alg(\n",
    "    dependant_columns=years_consumption_columns,\n",
    "    independent_columns=years_loans_columns,\n",
    "    directory='results/years',\n",
    "    filename='consumption_by_loans.csv',\n",
    ")"
   ],
   "metadata": {
    "collapsed": false,
    "pycharm": {
     "name": "#%%\n"
    }
   }
  },
  {
   "cell_type": "code",
   "execution_count": 5,
   "outputs": [],
   "source": [
    "for i, temp_df in enumerate([qdf, normalized_qdf]):\n",
    "    for quarter_column in quartered_inflation_columns:\n",
    "        # process_full_alg(\n",
    "        #         dependant_columns=[quarter_column],\n",
    "        #         independent_columns=quartered_financial_columns + quartered_consumption_columns + quartered_unemployment_columns,\n",
    "        #         dataframe=temp_df,\n",
    "        #         directory='results/quarters' if i == 0 else 'results/quarters/normalized',\n",
    "        #         filename=f'{quarter_column}_by_finances_consumption_unemployment',\n",
    "        #         min_comb_len=29,\n",
    "        #     )\n",
    "        # if 'q1' in quarter_column:\n",
    "        #     process_full_alg(\n",
    "        #         dependant_columns=[quarter_column],\n",
    "        #         independent_columns=q2_financial_columns + q3_financial_columns + q4_financial_columns + [col for col in quartered_consumption_columns if 'q1' not in col] + [col for col in quartered_unemployment_columns if 'q1' not in col],\n",
    "        #         dataframe=temp_df,\n",
    "        #         directory='results/quarters' if i == 0 else 'results/quarters/normalized',\n",
    "        #         filename=f'lag_{quarter_column}_by_finances_consumption_unemployment',\n",
    "        #         min_comb_len=20,\n",
    "        #     )\n",
    "        #     continue\n",
    "        if 'q2' in quarter_column:\n",
    "            process_full_alg(\n",
    "                dependant_columns=[quarter_column],\n",
    "                independent_columns=q1_financial_columns + [col for col in quartered_consumption_columns if 'q2' not in col and 'q3' not in col and 'q4' not in col] + [col for col in quartered_unemployment_columns if 'q2' not in col and 'q3' not in col and 'q4' not in col],\n",
    "                dataframe=temp_df,\n",
    "                directory='results/quarters' if i == 0 else 'results/quarters/normalized',\n",
    "                filename=f'right_lag_{quarter_column}_by_finances_consumption_unemployment',\n",
    "            )\n",
    "            continue\n",
    "        # if 'q3' in quarter_column:\n",
    "        #     process_full_alg(\n",
    "        #         dependant_columns=[quarter_column],\n",
    "        #         independent_columns=q1_financial_columns + q2_financial_columns + [col for col in quartered_consumption_columns if 'q3' not in col and 'q4' not in col] + [col for col in quartered_unemployment_columns if 'q3' not in col and 'q4' not in col],\n",
    "        #         dataframe=temp_df,\n",
    "        #         directory='results/quarters' if i == 0 else 'results/quarters/normalized',\n",
    "        #         filename=f'right_lag_{quarter_column}_by_finances_consumption_unemployment',\n",
    "        #         min_comb_len=10,\n",
    "        #     )\n",
    "        #     continue\n",
    "        if 'q4' in quarter_column:\n",
    "            process_full_alg(\n",
    "                dependant_columns=[quarter_column],\n",
    "                independent_columns=q1_financial_columns + q2_financial_columns + q3_financial_columns + [col for col in quartered_consumption_columns if 'q4' not in col] + [col for col in quartered_unemployment_columns if 'q4' not in col],\n",
    "                dataframe=temp_df,\n",
    "                directory='results/quarters' if i == 0 else 'results/quarters/normalized',\n",
    "                filename=f'right_lag_{quarter_column}_by_finances_consumption_unemployment',\n",
    "                min_comb_len=20,\n",
    "            )\n",
    "            continue"
   ],
   "metadata": {
    "collapsed": false,
    "pycharm": {
     "name": "#%%\n"
    }
   }
  },
  {
   "cell_type": "code",
   "execution_count": 27,
   "outputs": [
    {
     "data": {
      "text/plain": "array(['usa_inflation_q2', 'usa_inflation_q1', 'usa_inflation_q3',\n       'usa_consumption_q1', 'usa_inflation_q4'], dtype=object)"
     },
     "execution_count": 27,
     "metadata": {},
     "output_type": "execute_result"
    }
   ],
   "source": [
    "normalized_qdf_good_results = pd.read_csv('results/quarters/normalized/regression/only_good_results.csv')\n",
    "normalized_qdf_good_results['dependant_column'].unique()"
   ],
   "metadata": {
    "collapsed": false,
    "pycharm": {
     "name": "#%%\n"
    }
   }
  },
  {
   "cell_type": "code",
   "execution_count": 6,
   "outputs": [],
   "source": [
    "for dir_relative_path in ['results/quarters/regression', 'results/quarters/normalized/regression']:\n",
    "    dir_abs_path = os.path.abspath(dir_relative_path)\n",
    "    for filename in os.listdir(dir_relative_path):\n",
    "        if not filename.endswith('.csv') or 'only_good_results' in filename or 'right_lag' not in filename:\n",
    "            continue\n",
    "        path = os.path.join(dir_abs_path, filename)\n",
    "        try:\n",
    "            tdf = pd.read_csv(path)\n",
    "            tdf = tdf[tdf['r_squared'] > 0.5]\n",
    "        except Exception as e:\n",
    "            print(f'{path} is empty: {e}')\n",
    "            continue\n",
    "        tdf.to_csv(os.path.join(dir_abs_path, filename))"
   ],
   "metadata": {
    "collapsed": false,
    "pycharm": {
     "name": "#%%\n"
    }
   }
  },
  {
   "cell_type": "code",
   "execution_count": null,
   "outputs": [],
   "source": [],
   "metadata": {
    "collapsed": false,
    "pycharm": {
     "name": "#%%\n"
    }
   }
  }
 ],
 "metadata": {
  "kernelspec": {
   "display_name": "Python 3",
   "language": "python",
   "name": "python3"
  },
  "language_info": {
   "codemirror_mode": {
    "name": "ipython",
    "version": 2
   },
   "file_extension": ".py",
   "mimetype": "text/x-python",
   "name": "python",
   "nbconvert_exporter": "python",
   "pygments_lexer": "ipython2",
   "version": "2.7.6"
  }
 },
 "nbformat": 4,
 "nbformat_minor": 0
}